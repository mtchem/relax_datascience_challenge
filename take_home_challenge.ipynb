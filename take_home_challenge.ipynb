{
 "cells": [
  {
   "cell_type": "markdown",
   "metadata": {},
   "source": [
    "# Relax Inc. Take Home Challenge\n",
    "## *The goal is to identify which factors predict future user adoption*"
   ]
  },
  {
   "cell_type": "code",
   "execution_count": 16,
   "metadata": {},
   "outputs": [],
   "source": [
    "# imports\n",
    "import pandas as pd\n",
    "import numpy as np\n",
    "from datetime import datetime, timedelta\n",
    "import matplotlib.pyplot as plt\n",
    "from collections import defaultdict\n",
    "from sklearn.model_selection import train_test_split\n",
    "import statsmodels.api as sm\n",
    "from sklearn.linear_model import LogisticRegression\n",
    "from sklearn.metrics import accuracy_score"
   ]
  },
  {
   "cell_type": "code",
   "execution_count": 2,
   "metadata": {},
   "outputs": [],
   "source": [
    "# load data into dataframes\n",
    "user_engagement = pd.read_csv('takehome_user_engagement.csv')\n",
    "users = pd.read_csv('takehome_users.csv', encoding = 'iso-8859-1')"
   ]
  },
  {
   "cell_type": "code",
   "execution_count": 3,
   "metadata": {},
   "outputs": [],
   "source": [
    "# change dates to datetime objects\n",
    "users['creation_time'] = pd.to_datetime(users.creation_time)\n",
    "users['last_session_creation_time'] = pd.to_datetime(users.last_session_creation_time)\n",
    "user_engagement['time_stamp'] = pd.to_datetime(user_engagement.time_stamp)"
   ]
  },
  {
   "cell_type": "markdown",
   "metadata": {},
   "source": [
    "### Identify  users who have adopted the service"
   ]
  },
  {
   "cell_type": "code",
   "execution_count": 4,
   "metadata": {},
   "outputs": [],
   "source": [
    "# create dictionary where user_id is key, and list of timestamps are value\n",
    "usage = defaultdict(list)\n",
    "for ID, time in zip(user_engagement.user_id, user_engagement.time_stamp):\n",
    "    usage[ID].append(time)"
   ]
  },
  {
   "cell_type": "code",
   "execution_count": 5,
   "metadata": {},
   "outputs": [],
   "source": [
    "def within_7days(lst):\n",
    "    '''takes a list of logins and determines if 2 or more occur in 7 days  '''\n",
    "    delta_days = [] # list of 2 logins that happend withing 7 days\n",
    "    for num in range(0, len(lst)-1):\n",
    "        A = lst[num]\n",
    "        B = lst[num + 1]\n",
    "        delta_days.append(np.abs(A - B))\n",
    "        \n",
    "    final_lst = [day for day in delta_days if day < timedelta(days = 7)]\n",
    "    if len(final_lst) > 0:\n",
    "        return 1\n",
    "    else:\n",
    "        return 0\n",
    "    "
   ]
  },
  {
   "cell_type": "code",
   "execution_count": 6,
   "metadata": {},
   "outputs": [],
   "source": [
    "user_adoption = defaultdict(int)\n",
    "for ID, logs in usage.items():\n",
    "    if len(logs) < 2:\n",
    "        user_adoption[ID] = 0\n",
    "    else:\n",
    "        user_adoption[ID] = within_7days(logs)\n",
    "        \n",
    "    "
   ]
  },
  {
   "cell_type": "code",
   "execution_count": 7,
   "metadata": {},
   "outputs": [],
   "source": [
    "users['adoption'] = [user_adoption[ID] for ID in users.object_id]"
   ]
  },
  {
   "cell_type": "markdown",
   "metadata": {},
   "source": [
    "### Use logistic regression to model the data"
   ]
  },
  {
   "cell_type": "code",
   "execution_count": 8,
   "metadata": {},
   "outputs": [],
   "source": [
    "# Identify features and target\n",
    "X = users[['creation_source', 'opted_in_to_mailing_list', 'enabled_for_marketing_drip', 'org_id']]\n",
    "y = users.adoption"
   ]
  },
  {
   "cell_type": "code",
   "execution_count": 9,
   "metadata": {},
   "outputs": [],
   "source": [
    "# one-hot encode categorical variables\n",
    "X = pd.get_dummies(X, columns = ['creation_source', 'org_id'], drop_first=True)"
   ]
  },
  {
   "cell_type": "code",
   "execution_count": 11,
   "metadata": {},
   "outputs": [],
   "source": [
    "# split the data into training and test sets\n",
    "X_train, X_test, y_train, y_test = train_test_split(X,y)"
   ]
  },
  {
   "cell_type": "code",
   "execution_count": null,
   "metadata": {},
   "outputs": [],
   "source": [
    "# create and fit logistic regression model\n",
    "clf = LogisticRegression()\n",
    "clf.fit(X_train, y_train)"
   ]
  },
  {
   "cell_type": "code",
   "execution_count": 43,
   "metadata": {},
   "outputs": [
    {
     "name": "stdout",
     "output_type": "stream",
     "text": [
      "The logisic regression model has an accuracy of 0.819\n"
     ]
    }
   ],
   "source": [
    "# validate with test data\n",
    "y_pred = clf.predict(X_test)\n",
    "accuracy = accuracy_score(y_pred, y_test)\n",
    "print(\"The logisic regression model has an accuracy of {}\".format(round(accuracy,3)))\n"
   ]
  },
  {
   "cell_type": "code",
   "execution_count": 36,
   "metadata": {},
   "outputs": [],
   "source": [
    "# determine which features are the most important\n",
    "i = 0\n",
    "features = []\n",
    "for feature in X.columns.values:\n",
    "    features.append((clf.coef_[0][i], feature))\n",
    "    i += 1\n",
    "#print the top 10\n",
    "sorted(features, reverse=True)[:10]"
   ]
  },
  {
   "cell_type": "code",
   "execution_count": 40,
   "metadata": {},
   "outputs": [
    {
     "data": {
      "text/plain": [
       "[(1.6179314820613762, 'org_id_387'),\n",
       " (1.3192281254994103, 'org_id_381'),\n",
       " (1.1350216404918223, 'org_id_364'),\n",
       " (1.0995038702350937, 'org_id_366'),\n",
       " (1.035069502498086, 'org_id_82'),\n",
       " (1.0073153039945129, 'org_id_415'),\n",
       " (0.996558707479066, 'org_id_161'),\n",
       " (0.9499520756456566, 'org_id_388'),\n",
       " (0.922883099906002, 'org_id_318'),\n",
       " (0.9171464609112646, 'org_id_139')]"
      ]
     },
     "execution_count": 40,
     "metadata": {},
     "output_type": "execute_result"
    }
   ],
   "source": []
  },
  {
   "cell_type": "code",
   "execution_count": null,
   "metadata": {},
   "outputs": [],
   "source": []
  }
 ],
 "metadata": {
  "kernelspec": {
   "display_name": "Python 3",
   "language": "python",
   "name": "python3"
  },
  "language_info": {
   "codemirror_mode": {
    "name": "ipython",
    "version": 3
   },
   "file_extension": ".py",
   "mimetype": "text/x-python",
   "name": "python",
   "nbconvert_exporter": "python",
   "pygments_lexer": "ipython3",
   "version": "3.6.5"
  }
 },
 "nbformat": 4,
 "nbformat_minor": 2
}
